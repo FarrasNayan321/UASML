{
  "cells": [
    {
      "cell_type": "markdown",
      "metadata": {
        "id": "view-in-github",
        "colab_type": "text"
      },
      "source": [
        "<a href=\"https://colab.research.google.com/github/FarrasNayan321/UASML/blob/main/UAS_ML_NO_3.ipynb\" target=\"_parent\"><img src=\"https://colab.research.google.com/assets/colab-badge.svg\" alt=\"Open In Colab\"/></a>"
      ]
    },
    {
      "cell_type": "markdown",
      "source": [
        "# Import Libraries"
      ],
      "metadata": {
        "id": "z3nKhM1kkxR2"
      }
    },
    {
      "cell_type": "code",
      "execution_count": 1,
      "metadata": {
        "id": "vcwfGX4nnfdB"
      },
      "outputs": [],
      "source": [
        "import pandas as pd\n",
        "import numpy as np\n",
        "import seaborn as sns\n",
        "import matplotlib.pyplot as plt\n",
        "\n",
        "from collections import Counter\n",
        "from scipy.stats import mode\n",
        "from sklearn.model_selection import train_test_split\n",
        "from sklearn.metrics import accuracy_score, classification_report, mean_squared_error, confusion_matrix, r2_score\n",
        "from sklearn.datasets import load_iris\n",
        "from sklearn import datasets\n",
        "from sklearn.preprocessing import StandardScaler"
      ]
    },
    {
      "cell_type": "markdown",
      "source": [
        "# Read CSV"
      ],
      "metadata": {
        "id": "m1RrTO12k1sv"
      }
    },
    {
      "cell_type": "code",
      "execution_count": 2,
      "metadata": {
        "colab": {
          "base_uri": "https://localhost:8080/",
          "height": 235
        },
        "id": "TMjqcgfZoc0K",
        "outputId": "f956e49b-e4f9-4626-b3b1-aa910bd3278f"
      },
      "outputs": [
        {
          "output_type": "execute_result",
          "data": {
            "text/plain": [
              "         F1   F2        F3        F4   F5        F6        F7        F8  \\\n",
              "0  0.006711  0.0  0.013423  0.006711  0.0  0.006711  0.006711  0.020134   \n",
              "1  0.000000  0.0  0.000000  0.007246  0.0  0.000000  0.000000  0.021739   \n",
              "2  0.011696  0.0  0.005848  0.000000  0.0  0.005848  0.000000  0.035088   \n",
              "3  0.000000  0.0  0.020833  0.000000  0.0  0.000000  0.010417  0.000000   \n",
              "4  0.000000  0.0  0.034483  0.000000  0.0  0.000000  0.000000  0.000000   \n",
              "\n",
              "         F9       F10  ...      F192      F193      F194      F195      F196  \\\n",
              "0  0.020134  0.000000  ...  0.013423  0.000000  0.006711  0.013423  0.020134   \n",
              "1  0.014493  0.000000  ...  0.007246  0.007246  0.000000  0.000000  0.014493   \n",
              "2  0.017544  0.017544  ...  0.005848  0.000000  0.005848  0.011696  0.035088   \n",
              "3  0.020833  0.000000  ...  0.010417  0.000000  0.000000  0.041667  0.000000   \n",
              "4  0.034483  0.000000  ...  0.017241  0.000000  0.000000  0.068966  0.000000   \n",
              "\n",
              "       F197  F198      F199  F200  Class  \n",
              "0  0.006711   0.0  0.006711   0.0      1  \n",
              "1  0.000000   0.0  0.007246   0.0      1  \n",
              "2  0.005848   0.0  0.000000   0.0      1  \n",
              "3  0.000000   0.0  0.000000   0.0      1  \n",
              "4  0.000000   0.0  0.000000   0.0      1  \n",
              "\n",
              "[5 rows x 201 columns]"
            ],
            "text/html": [
              "\n",
              "  <div id=\"df-43776b86-5fd7-4ca9-82e1-3be2b7e9aa0e\">\n",
              "    <div class=\"colab-df-container\">\n",
              "      <div>\n",
              "<style scoped>\n",
              "    .dataframe tbody tr th:only-of-type {\n",
              "        vertical-align: middle;\n",
              "    }\n",
              "\n",
              "    .dataframe tbody tr th {\n",
              "        vertical-align: top;\n",
              "    }\n",
              "\n",
              "    .dataframe thead th {\n",
              "        text-align: right;\n",
              "    }\n",
              "</style>\n",
              "<table border=\"1\" class=\"dataframe\">\n",
              "  <thead>\n",
              "    <tr style=\"text-align: right;\">\n",
              "      <th></th>\n",
              "      <th>F1</th>\n",
              "      <th>F2</th>\n",
              "      <th>F3</th>\n",
              "      <th>F4</th>\n",
              "      <th>F5</th>\n",
              "      <th>F6</th>\n",
              "      <th>F7</th>\n",
              "      <th>F8</th>\n",
              "      <th>F9</th>\n",
              "      <th>F10</th>\n",
              "      <th>...</th>\n",
              "      <th>F192</th>\n",
              "      <th>F193</th>\n",
              "      <th>F194</th>\n",
              "      <th>F195</th>\n",
              "      <th>F196</th>\n",
              "      <th>F197</th>\n",
              "      <th>F198</th>\n",
              "      <th>F199</th>\n",
              "      <th>F200</th>\n",
              "      <th>Class</th>\n",
              "    </tr>\n",
              "  </thead>\n",
              "  <tbody>\n",
              "    <tr>\n",
              "      <th>0</th>\n",
              "      <td>0.006711</td>\n",
              "      <td>0.0</td>\n",
              "      <td>0.013423</td>\n",
              "      <td>0.006711</td>\n",
              "      <td>0.0</td>\n",
              "      <td>0.006711</td>\n",
              "      <td>0.006711</td>\n",
              "      <td>0.020134</td>\n",
              "      <td>0.020134</td>\n",
              "      <td>0.000000</td>\n",
              "      <td>...</td>\n",
              "      <td>0.013423</td>\n",
              "      <td>0.000000</td>\n",
              "      <td>0.006711</td>\n",
              "      <td>0.013423</td>\n",
              "      <td>0.020134</td>\n",
              "      <td>0.006711</td>\n",
              "      <td>0.0</td>\n",
              "      <td>0.006711</td>\n",
              "      <td>0.0</td>\n",
              "      <td>1</td>\n",
              "    </tr>\n",
              "    <tr>\n",
              "      <th>1</th>\n",
              "      <td>0.000000</td>\n",
              "      <td>0.0</td>\n",
              "      <td>0.000000</td>\n",
              "      <td>0.007246</td>\n",
              "      <td>0.0</td>\n",
              "      <td>0.000000</td>\n",
              "      <td>0.000000</td>\n",
              "      <td>0.021739</td>\n",
              "      <td>0.014493</td>\n",
              "      <td>0.000000</td>\n",
              "      <td>...</td>\n",
              "      <td>0.007246</td>\n",
              "      <td>0.007246</td>\n",
              "      <td>0.000000</td>\n",
              "      <td>0.000000</td>\n",
              "      <td>0.014493</td>\n",
              "      <td>0.000000</td>\n",
              "      <td>0.0</td>\n",
              "      <td>0.007246</td>\n",
              "      <td>0.0</td>\n",
              "      <td>1</td>\n",
              "    </tr>\n",
              "    <tr>\n",
              "      <th>2</th>\n",
              "      <td>0.011696</td>\n",
              "      <td>0.0</td>\n",
              "      <td>0.005848</td>\n",
              "      <td>0.000000</td>\n",
              "      <td>0.0</td>\n",
              "      <td>0.005848</td>\n",
              "      <td>0.000000</td>\n",
              "      <td>0.035088</td>\n",
              "      <td>0.017544</td>\n",
              "      <td>0.017544</td>\n",
              "      <td>...</td>\n",
              "      <td>0.005848</td>\n",
              "      <td>0.000000</td>\n",
              "      <td>0.005848</td>\n",
              "      <td>0.011696</td>\n",
              "      <td>0.035088</td>\n",
              "      <td>0.005848</td>\n",
              "      <td>0.0</td>\n",
              "      <td>0.000000</td>\n",
              "      <td>0.0</td>\n",
              "      <td>1</td>\n",
              "    </tr>\n",
              "    <tr>\n",
              "      <th>3</th>\n",
              "      <td>0.000000</td>\n",
              "      <td>0.0</td>\n",
              "      <td>0.020833</td>\n",
              "      <td>0.000000</td>\n",
              "      <td>0.0</td>\n",
              "      <td>0.000000</td>\n",
              "      <td>0.010417</td>\n",
              "      <td>0.000000</td>\n",
              "      <td>0.020833</td>\n",
              "      <td>0.000000</td>\n",
              "      <td>...</td>\n",
              "      <td>0.010417</td>\n",
              "      <td>0.000000</td>\n",
              "      <td>0.000000</td>\n",
              "      <td>0.041667</td>\n",
              "      <td>0.000000</td>\n",
              "      <td>0.000000</td>\n",
              "      <td>0.0</td>\n",
              "      <td>0.000000</td>\n",
              "      <td>0.0</td>\n",
              "      <td>1</td>\n",
              "    </tr>\n",
              "    <tr>\n",
              "      <th>4</th>\n",
              "      <td>0.000000</td>\n",
              "      <td>0.0</td>\n",
              "      <td>0.034483</td>\n",
              "      <td>0.000000</td>\n",
              "      <td>0.0</td>\n",
              "      <td>0.000000</td>\n",
              "      <td>0.000000</td>\n",
              "      <td>0.000000</td>\n",
              "      <td>0.034483</td>\n",
              "      <td>0.000000</td>\n",
              "      <td>...</td>\n",
              "      <td>0.017241</td>\n",
              "      <td>0.000000</td>\n",
              "      <td>0.000000</td>\n",
              "      <td>0.068966</td>\n",
              "      <td>0.000000</td>\n",
              "      <td>0.000000</td>\n",
              "      <td>0.0</td>\n",
              "      <td>0.000000</td>\n",
              "      <td>0.0</td>\n",
              "      <td>1</td>\n",
              "    </tr>\n",
              "  </tbody>\n",
              "</table>\n",
              "<p>5 rows × 201 columns</p>\n",
              "</div>\n",
              "      <button class=\"colab-df-convert\" onclick=\"convertToInteractive('df-43776b86-5fd7-4ca9-82e1-3be2b7e9aa0e')\"\n",
              "              title=\"Convert this dataframe to an interactive table.\"\n",
              "              style=\"display:none;\">\n",
              "        \n",
              "  <svg xmlns=\"http://www.w3.org/2000/svg\" height=\"24px\"viewBox=\"0 0 24 24\"\n",
              "       width=\"24px\">\n",
              "    <path d=\"M0 0h24v24H0V0z\" fill=\"none\"/>\n",
              "    <path d=\"M18.56 5.44l.94 2.06.94-2.06 2.06-.94-2.06-.94-.94-2.06-.94 2.06-2.06.94zm-11 1L8.5 8.5l.94-2.06 2.06-.94-2.06-.94L8.5 2.5l-.94 2.06-2.06.94zm10 10l.94 2.06.94-2.06 2.06-.94-2.06-.94-.94-2.06-.94 2.06-2.06.94z\"/><path d=\"M17.41 7.96l-1.37-1.37c-.4-.4-.92-.59-1.43-.59-.52 0-1.04.2-1.43.59L10.3 9.45l-7.72 7.72c-.78.78-.78 2.05 0 2.83L4 21.41c.39.39.9.59 1.41.59.51 0 1.02-.2 1.41-.59l7.78-7.78 2.81-2.81c.8-.78.8-2.07 0-2.86zM5.41 20L4 18.59l7.72-7.72 1.47 1.35L5.41 20z\"/>\n",
              "  </svg>\n",
              "      </button>\n",
              "      \n",
              "  <style>\n",
              "    .colab-df-container {\n",
              "      display:flex;\n",
              "      flex-wrap:wrap;\n",
              "      gap: 12px;\n",
              "    }\n",
              "\n",
              "    .colab-df-convert {\n",
              "      background-color: #E8F0FE;\n",
              "      border: none;\n",
              "      border-radius: 50%;\n",
              "      cursor: pointer;\n",
              "      display: none;\n",
              "      fill: #1967D2;\n",
              "      height: 32px;\n",
              "      padding: 0 0 0 0;\n",
              "      width: 32px;\n",
              "    }\n",
              "\n",
              "    .colab-df-convert:hover {\n",
              "      background-color: #E2EBFA;\n",
              "      box-shadow: 0px 1px 2px rgba(60, 64, 67, 0.3), 0px 1px 3px 1px rgba(60, 64, 67, 0.15);\n",
              "      fill: #174EA6;\n",
              "    }\n",
              "\n",
              "    [theme=dark] .colab-df-convert {\n",
              "      background-color: #3B4455;\n",
              "      fill: #D2E3FC;\n",
              "    }\n",
              "\n",
              "    [theme=dark] .colab-df-convert:hover {\n",
              "      background-color: #434B5C;\n",
              "      box-shadow: 0px 1px 3px 1px rgba(0, 0, 0, 0.15);\n",
              "      filter: drop-shadow(0px 1px 2px rgba(0, 0, 0, 0.3));\n",
              "      fill: #FFFFFF;\n",
              "    }\n",
              "  </style>\n",
              "\n",
              "      <script>\n",
              "        const buttonEl =\n",
              "          document.querySelector('#df-43776b86-5fd7-4ca9-82e1-3be2b7e9aa0e button.colab-df-convert');\n",
              "        buttonEl.style.display =\n",
              "          google.colab.kernel.accessAllowed ? 'block' : 'none';\n",
              "\n",
              "        async function convertToInteractive(key) {\n",
              "          const element = document.querySelector('#df-43776b86-5fd7-4ca9-82e1-3be2b7e9aa0e');\n",
              "          const dataTable =\n",
              "            await google.colab.kernel.invokeFunction('convertToInteractive',\n",
              "                                                     [key], {});\n",
              "          if (!dataTable) return;\n",
              "\n",
              "          const docLinkHtml = 'Like what you see? Visit the ' +\n",
              "            '<a target=\"_blank\" href=https://colab.research.google.com/notebooks/data_table.ipynb>data table notebook</a>'\n",
              "            + ' to learn more about interactive tables.';\n",
              "          element.innerHTML = '';\n",
              "          dataTable['output_type'] = 'display_data';\n",
              "          await google.colab.output.renderOutput(dataTable, element);\n",
              "          const docLink = document.createElement('div');\n",
              "          docLink.innerHTML = docLinkHtml;\n",
              "          element.appendChild(docLink);\n",
              "        }\n",
              "      </script>\n",
              "    </div>\n",
              "  </div>\n",
              "  "
            ]
          },
          "metadata": {},
          "execution_count": 2
        }
      ],
      "source": [
        "df = pd.read_csv('https://raw.githubusercontent.com/FarrasNayan321/UASML/main/experiment.csv')\n",
        "df.head()"
      ]
    },
    {
      "cell_type": "markdown",
      "source": [
        "# Cari 8 Corellation tertinggi "
      ],
      "metadata": {
        "id": "2X3xXb_Jk-Ys"
      }
    },
    {
      "cell_type": "code",
      "execution_count": 25,
      "metadata": {
        "colab": {
          "base_uri": "https://localhost:8080/"
        },
        "id": "K0izaWT9yoSu",
        "outputId": "513a9b5e-236e-4b15-b1c8-0aa05ff358ae"
      },
      "outputs": [
        {
          "output_type": "execute_result",
          "data": {
            "text/plain": [
              "F80     0.164355\n",
              "F12     0.164925\n",
              "F65     0.185885\n",
              "F200    0.188194\n",
              "F122    0.203490\n",
              "F157    0.214910\n",
              "dtype: float64"
            ]
          },
          "metadata": {},
          "execution_count": 25
        }
      ],
      "source": [
        "corr_mat = df.corr(method='pearson')\n",
        "upper_corr_mat = corr_mat.where(np.triu(np.ones(corr_mat.shape), k=1).astype(bool)).abs()\n",
        "unique_corr_pairs = upper_corr_mat.unstack().dropna()\n",
        "sorted_mat = unique_corr_pairs.sort_values()\n",
        "sorted_mat['Class'].tail(6)"
      ]
    },
    {
      "cell_type": "code",
      "source": [
        "df_new = df[[\"F157\",\"F122\",\"F200\",\"F65\",\"F12\",\"F80\",\"Class\"]]"
      ],
      "metadata": {
        "id": "ZfclzjYvW3Ms"
      },
      "execution_count": 4,
      "outputs": []
    },
    {
      "cell_type": "code",
      "execution_count": 5,
      "metadata": {
        "colab": {
          "base_uri": "https://localhost:8080/",
          "height": 607
        },
        "id": "aYsJ2jThr46I",
        "outputId": "4e5f5c26-c946-4f84-d3ab-f18ab8f0c17c"
      },
      "outputs": [
        {
          "output_type": "display_data",
          "data": {
            "text/plain": [
              "<Figure size 1080x720 with 2 Axes>"
            ],
            "image/png": "[encoded data removed]"
          },
          "metadata": {
            "needs_background": "light"
          }
        }
      ],
      "source": [
        "plt.figure(figsize=(15, 10))\n",
        "sns.heatmap(data=df_new.corr(), annot=True, cmap = \"Reds\")\n",
        "plt.title(\"Correlation Matrix\")\n",
        "\n",
        "plt.show()"
      ]
    },
    {
      "cell_type": "markdown",
      "source": [
        "# Pake F157, F122, dan F200 dan drop sisanya"
      ],
      "metadata": {
        "id": "fRLstOqhlSG_"
      }
    },
    {
      "cell_type": "code",
      "source": [
        "df1 = df_new.drop([ 'F65', 'F12', 'F80'], axis=1)"
      ],
      "metadata": {
        "id": "ONo8HO9iZ0LJ"
      },
      "execution_count": 16,
      "outputs": []
    },
    {
      "cell_type": "markdown",
      "source": [
        "# Splitting Data"
      ],
      "metadata": {
        "id": "KRqM-Qd8leEH"
      }
    },
    {
      "cell_type": "code",
      "source": [
        "sc = StandardScaler()\n",
        "X = df1.drop('Class',axis=1)\n",
        "x_transformed = sc.fit_transform(X)\n",
        "y = df1['Class']\n",
        "X = np.array(X)\n",
        "y = np.array(y)\n",
        "\n",
        "X_train, X_test, y_train, y_test = train_test_split(X, y, test_size = 0.2, random_state = 42, stratify = y)\n",
        "\n"
      ],
      "metadata": {
        "id": "wr7ZdPVwX4Mv"
      },
      "execution_count": 17,
      "outputs": []
    },
    {
      "cell_type": "markdown",
      "source": [
        "# KNN METHOD"
      ],
      "metadata": {
        "id": "oEtELUN5lmgx"
      }
    },
    {
      "cell_type": "code",
      "source": [
        "def euclidean(x1, x2):\n",
        "  return np.sqrt(np.sum((x1 - x2) ** 2))"
      ],
      "metadata": {
        "id": "34E0dyI7aP9y"
      },
      "execution_count": 18,
      "outputs": []
    },
    {
      "cell_type": "code",
      "source": [
        "class KNNClassificationEuclidian:\n",
        "  def __init__(self, k):\n",
        "    self.k = k\n",
        "  \n",
        "  def fit(self, X_train, y_train):\n",
        "    self.X_train = X_train\n",
        "    self.y_train = y_train\n",
        "\n",
        "  def predict(self, X_test):\n",
        "    y_pred = [self._predict(x_test) for x_test in X_test]\n",
        "    return np.array(y_pred)\n",
        "\n",
        "  def _predict(self, x_test):\n",
        "    dist = [euclidean(x_test, x_train) for x_train in self.X_train]\n",
        "    k_nearest = np.argsort(dist)[:self.k]\n",
        "    k_nearest_class = [self.y_train[i] for i in k_nearest]\n",
        "    most_common = Counter(k_nearest_class).most_common(1)\n",
        "    return most_common[0][0]"
      ],
      "metadata": {
        "id": "cSsHoD4saSiJ"
      },
      "execution_count": 19,
      "outputs": []
    },
    {
      "cell_type": "code",
      "source": [
        "rmse_values = []\n",
        "k_num = []\n",
        "for k in range(1, 50, 2):\n",
        "  model = KNNClassificationEuclidian(k)\n",
        "  model.fit(X_train, y_train)\n",
        "  y_pred = model.predict(X_test)\n",
        "  k_num.append(k)\n",
        "  rmse_values.append(np.sqrt(mean_squared_error(y_test, y_pred)))\n",
        "plt.figure(figsize=(10, 10))\n",
        "plt.plot(k_num, rmse_values, \"o-\")\n",
        "plt.title(\"Graph of RMSE\")\n",
        "plt.xticks(np.arange(1, 50, 2.0))\n",
        "plt.xlabel(\"K\")\n",
        "plt.ylabel(\"RMSE\")\n",
        "plt.legend()\n",
        "plt.show"
      ],
      "metadata": {
        "colab": {
          "base_uri": "https://localhost:8080/",
          "height": 657
        },
        "id": "q4CM3TdQaUS4",
        "outputId": "8afc1671-2d6f-473f-847d-e0fbb22b4c39"
      },
      "execution_count": 20,
      "outputs": [
        {
          "output_type": "stream",
          "name": "stderr",
          "text": [
            "No handles with labels found to put in legend.\n"
          ]
        },
        {
          "output_type": "execute_result",
          "data": {
            "text/plain": [
              "<function matplotlib.pyplot.show>"
            ]
          },
          "metadata": {},
          "execution_count": 20
        },
        {
          "output_type": "display_data",
          "data": {
            "text/plain": [
              "<Figure size 720x720 with 1 Axes>"
            ],
            "image/png": "[encoded data removed]"
          },
          "metadata": {
            "needs_background": "light"
          }
        }
      ]
    },
    {
      "cell_type": "code",
      "source": [
        "model = KNNClassificationEuclidian(19)\n",
        "model.fit(X_train, y_train)\n",
        "y_pred = model.predict(X_test)\n",
        "accuracy = accuracy_score(y_test, y_pred)\n",
        "print(accuracy)\n",
        "print(np.sqrt(mean_squared_error(y_test, y_pred)))"
      ],
      "metadata": {
        "colab": {
          "base_uri": "https://localhost:8080/"
        },
        "id": "2gLoWj_FdGZe",
        "outputId": "3be2860a-9679-4dd5-cba5-d6d616ea2392"
      },
      "execution_count": 21,
      "outputs": [
        {
          "output_type": "stream",
          "name": "stdout",
          "text": [
            "0.45465686274509803\n",
            "1.5880991227028027\n"
          ]
        }
      ]
    },
    {
      "cell_type": "code",
      "source": [
        "print(classification_report(y_test, y_pred))"
      ],
      "metadata": {
        "colab": {
          "base_uri": "https://localhost:8080/"
        },
        "id": "vcrPvy5ThItV",
        "outputId": "88efbd04-434b-4d64-907c-e9725518369d"
      },
      "execution_count": 22,
      "outputs": [
        {
          "output_type": "stream",
          "name": "stdout",
          "text": [
            "              precision    recall  f1-score   support\n",
            "\n",
            "           1       0.58      0.61      0.59       163\n",
            "           2       0.36      0.65      0.46       163\n",
            "           3       0.35      0.19      0.25       163\n",
            "           4       0.55      0.65      0.59       164\n",
            "           5       0.43      0.18      0.25       163\n",
            "\n",
            "    accuracy                           0.45       816\n",
            "   macro avg       0.45      0.45      0.43       816\n",
            "weighted avg       0.45      0.45      0.43       816\n",
            "\n"
          ]
        }
      ]
    },
    {
      "cell_type": "code",
      "source": [
        "sns.heatmap(confusion_matrix(y_test, y_pred), annot = True)\n",
        "plt.xlabel(\"Predicted\")\n",
        "plt.ylabel(\"Ground Truth\")\n",
        "plt.title(\"Confusion Matrix\", fontsize=20)\n",
        "plt.show()"
      ],
      "metadata": {
        "colab": {
          "base_uri": "https://localhost:8080/",
          "height": 300
        },
        "id": "rVm-Sx4-hU7P",
        "outputId": "f0518436-1f60-4e9b-a469-9990f4b0e95a"
      },
      "execution_count": 23,
      "outputs": [
        {
          "output_type": "display_data",
          "data": {
            "text/plain": [
              "<Figure size 432x288 with 2 Axes>"
            ],
            "image/png": "[encoded data removed]"
          },
          "metadata": {
            "needs_background": "light"
          }
        }
      ]
    },
    {
      "cell_type": "code",
      "source": [
        "class NaiveBayes:\n",
        "    def fit(self, X, y):\n",
        "        n_samples, n_features = X.shape\n",
        "        self._classes = np.unique(y)\n",
        "        n_classes = len(self._classes)\n",
        "\n",
        "        self._mean = np.zeros((n_classes, n_features), dtype=np.float64)\n",
        "        self._var = np.zeros((n_classes, n_features), dtype=np.float64)\n",
        "        self._priors = np.zeros(n_classes, dtype=np.float64)\n",
        "\n",
        "        for idx, c in enumerate(self._classes):\n",
        "            X_c = X[y == c]\n",
        "            self._mean[idx, :] = X_c.mean(axis=0)\n",
        "            self._var[idx, :] = X_c.var(axis=0)\n",
        "            self._priors[idx] = X_c.shape[0] / float(n_samples)\n",
        "\n",
        "    def predict(self, X):\n",
        "        y_pred = [self._predict(x) for x in X]\n",
        "        return np.array(y_pred)\n",
        "\n",
        "    def _predict(self, x):\n",
        "        posteriors = []\n",
        "\n",
        "        for idx, c in enumerate(self._classes):\n",
        "            prior = np.log(self._priors[idx])\n",
        "            posterior = np.sum(np.log(self._pdf(idx, x)))\n",
        "            posterior = prior + posterior\n",
        "            posteriors.append(posterior)\n",
        "\n",
        "\n",
        "        return self._classes[np.argmax(posteriors)]\n",
        "\n",
        "    def _pdf(self, class_idx, x):\n",
        "        mean = self._mean[class_idx]\n",
        "        var = self._var[class_idx]\n",
        "        numerator = np.exp(-((x - mean) ** 2) / (2 * var))\n",
        "        denominator = np.sqrt(2 * np.pi * var)\n",
        "        return numerator / denominator\n"
      ],
      "metadata": {
        "id": "IGoFjFW2lrcY"
      },
      "execution_count": 30,
      "outputs": []
    },
    {
      "cell_type": "code",
      "source": [
        "nb = NaiveBayes()\n",
        "nb.fit(X_train, y_train)\n",
        "predictions = nb.predict(X_test)\n",
        "nb_accur =accuracy_score(y_test, predictions)\n",
        "print(nb_accur)\n",
        "print(np.sqrt(mean_squared_error(y_test, y_pred)))"
      ],
      "metadata": {
        "colab": {
          "base_uri": "https://localhost:8080/"
        },
        "id": "yEnWqADmor3e",
        "outputId": "830b61ad-94a0-46b1-f5f9-97b7e12c172e"
      },
      "execution_count": 36,
      "outputs": [
        {
          "output_type": "stream",
          "name": "stdout",
          "text": [
            "0.4178921568627451\n",
            "1.5880991227028027\n"
          ]
        }
      ]
    }
  ],
  "metadata": {
    "colab": {
      "collapsed_sections": [],
      "name": "UAS ML NO 3.ipynb",
      "provenance": [],
      "authorship_tag": "ABX9TyNBc9q9LaPrQzW7nVvlbGrK",
      "include_colab_link": true
    },
    "kernelspec": {
      "display_name": "Python 3",
      "name": "python3"
    },
    "language_info": {
      "name": "python"
    }
  },
  "nbformat": 4,
  "nbformat_minor": 0
}